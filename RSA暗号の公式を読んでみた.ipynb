{
 "cells": [
  {
   "cell_type": "markdown",
   "id": "31fa8113",
   "metadata": {},
   "source": [
    "## 公開鍵暗号のキーを生成する"
   ]
  },
  {
   "cell_type": "markdown",
   "id": "b38c4a69",
   "metadata": {},
   "source": [
    "適当な素数の組$p$および$q$を設定する  \n",
    "$(p \\times q)$までの値を暗号化することができる"
   ]
  },
  {
   "cell_type": "code",
   "execution_count": 1,
   "id": "10f066e5",
   "metadata": {},
   "outputs": [
    {
     "name": "stdout",
     "output_type": "stream",
     "text": [
      "暗号化できる最大値n:  3836141\n"
     ]
    }
   ],
   "source": [
    "int_p=2677\n",
    "int_q=1433\n",
    "\n",
    "int_n=int_p*int_q\n",
    "\n",
    "print(\"暗号化できる最大値n: \", int_n)"
   ]
  },
  {
   "cell_type": "markdown",
   "id": "901c8628",
   "metadata": {},
   "source": [
    "適当な$k_1$（公開鍵）を生成する"
   ]
  },
  {
   "cell_type": "code",
   "execution_count": 2,
   "id": "b199bc03",
   "metadata": {},
   "outputs": [
    {
     "name": "stdout",
     "output_type": "stream",
     "text": [
      "適当な公開鍵:  41\n"
     ]
    }
   ],
   "source": [
    "pq=(int_p-1)*(int_q-1)\n",
    "key_1=41\n",
    "    \n",
    "print(\"適当な公開鍵: \", key_1)"
   ]
  },
  {
   "cell_type": "markdown",
   "id": "129f0716",
   "metadata": {},
   "source": [
    "$k_1k_2 \\equiv 1 (mod(p-1)(q-1))$  \n",
    "を解いて$k_2$（秘密鍵を入手する）"
   ]
  },
  {
   "cell_type": "markdown",
   "id": "f821c18d",
   "metadata": {},
   "source": [
    "$k_1k_2=n\\times((p-1)(q-1))+1$"
   ]
  },
  {
   "cell_type": "markdown",
   "id": "19235b7e",
   "metadata": {},
   "source": [
    "$k_2=\\frac{(n(p-1)(q-1))+1} {k_1}$"
   ]
  },
  {
   "cell_type": "code",
   "execution_count": 3,
   "id": "c49eec84",
   "metadata": {},
   "outputs": [],
   "source": [
    "key_2=0.5\n",
    "n=0\n",
    "\n",
    "while(key_2%1!=0):\n",
    "    n+=1\n",
    "    key_2=((n*pq)+1)/key_1\n",
    "    \n",
    "key_2=int(key_2)"
   ]
  },
  {
   "cell_type": "code",
   "execution_count": 4,
   "id": "f4319041",
   "metadata": {},
   "outputs": [
    {
     "name": "stdout",
     "output_type": "stream",
     "text": [
      "生成された秘密鍵:  467321\n"
     ]
    }
   ],
   "source": [
    "print(\"生成された秘密鍵: \", key_2)"
   ]
  },
  {
   "cell_type": "code",
   "execution_count": null,
   "id": "18b9103e",
   "metadata": {},
   "outputs": [],
   "source": []
  },
  {
   "cell_type": "markdown",
   "id": "f218f3e8",
   "metadata": {},
   "source": [
    "## 実際に暗号化して複合してみる"
   ]
  },
  {
   "cell_type": "markdown",
   "id": "36b71289",
   "metadata": {},
   "source": [
    "暗号化するデータを設定"
   ]
  },
  {
   "cell_type": "code",
   "execution_count": 5,
   "id": "5216d7cd",
   "metadata": {},
   "outputs": [],
   "source": [
    "testdatas={2, 29, 296, 2962, 29629, 296296}"
   ]
  },
  {
   "cell_type": "code",
   "execution_count": 6,
   "id": "eb65dd7b",
   "metadata": {},
   "outputs": [
    {
     "name": "stdout",
     "output_type": "stream",
     "text": [
      "2 の暗号化→複合\n",
      "暗号化結果:  1460994\n",
      "複合結果:  2\n",
      "\n",
      "2962 の暗号化→複合\n",
      "暗号化結果:  2493606\n",
      "複合結果:  2962\n",
      "\n",
      "296296 の暗号化→複合\n",
      "暗号化結果:  1854845\n",
      "複合結果:  296296\n",
      "\n",
      "29 の暗号化→複合\n",
      "暗号化結果:  2658572\n",
      "複合結果:  29\n",
      "\n",
      "296 の暗号化→複合\n",
      "暗号化結果:  933055\n",
      "複合結果:  296\n",
      "\n",
      "29629 の暗号化→複合\n",
      "暗号化結果:  3366494\n",
      "複合結果:  29629\n",
      "\n"
     ]
    }
   ],
   "source": [
    "for data in testdatas:\n",
    "    print(data, \"の暗号化→複合\")\n",
    "    C=(data**key_1)%int_n\n",
    "    print(\"暗号化結果: \", C)\n",
    "    \n",
    "    \n",
    "    R=(C**key_2)%int_n\n",
    "    print(\"複合結果: \", R)\n",
    "    \n",
    "    print()"
   ]
  },
  {
   "cell_type": "code",
   "execution_count": null,
   "id": "10271594",
   "metadata": {},
   "outputs": [],
   "source": []
  },
  {
   "cell_type": "markdown",
   "id": "d3062483",
   "metadata": {},
   "source": [
    "## 複合して暗号化してみる（ SSH認証に使うソレ）"
   ]
  },
  {
   "cell_type": "code",
   "execution_count": 7,
   "id": "fd248a94",
   "metadata": {},
   "outputs": [
    {
     "name": "stdout",
     "output_type": "stream",
     "text": [
      "2 で署名作成→読み取り\n",
      "署名:  185458\n",
      "署名を読んだ結果:  2\n",
      "\n",
      "2962 で署名作成→読み取り\n",
      "署名:  740002\n",
      "署名を読んだ結果:  2962\n",
      "\n",
      "296296 で署名作成→読み取り\n",
      "署名:  2870974\n",
      "署名を読んだ結果:  296296\n",
      "\n",
      "29 で署名作成→読み取り\n",
      "署名:  911709\n",
      "署名を読んだ結果:  29\n",
      "\n",
      "296 で署名作成→読み取り\n",
      "署名:  3282946\n",
      "署名を読んだ結果:  296\n",
      "\n",
      "29629 で署名作成→読み取り\n",
      "署名:  1137171\n",
      "署名を読んだ結果:  29629\n",
      "\n"
     ]
    }
   ],
   "source": [
    "for data in testdatas:\n",
    "    print(data, \"で署名作成→読み取り\")\n",
    "    cert=(data**key_2)%int_n\n",
    "    print(\"署名: \", cert)\n",
    "    \n",
    "    C=(cert**key_1)%int_n\n",
    "    print(\"署名を読んだ結果: \", C)\n",
    "    \n",
    "    print()"
   ]
  },
  {
   "cell_type": "code",
   "execution_count": null,
   "id": "89e8e263",
   "metadata": {},
   "outputs": [],
   "source": []
  },
  {
   "cell_type": "code",
   "execution_count": null,
   "id": "37bcf646",
   "metadata": {},
   "outputs": [],
   "source": []
  }
 ],
 "metadata": {
  "kernelspec": {
   "display_name": "Python 3 (ipykernel)",
   "language": "python",
   "name": "python3"
  },
  "language_info": {
   "codemirror_mode": {
    "name": "ipython",
    "version": 3
   },
   "file_extension": ".py",
   "mimetype": "text/x-python",
   "name": "python",
   "nbconvert_exporter": "python",
   "pygments_lexer": "ipython3",
   "version": "3.11.1"
  }
 },
 "nbformat": 4,
 "nbformat_minor": 5
}
